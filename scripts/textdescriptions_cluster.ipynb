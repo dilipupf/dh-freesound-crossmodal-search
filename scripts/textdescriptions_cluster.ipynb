{
 "cells": [
  {
   "cell_type": "code",
   "execution_count": 13,
   "metadata": {},
   "outputs": [
    {
     "name": "stderr",
     "output_type": "stream",
     "text": [
      "[nltk_data] Downloading package stopwords to\n",
      "[nltk_data]     /Users/dilipharish/nltk_data...\n",
      "[nltk_data]   Package stopwords is already up-to-date!\n",
      "/Users/dilipharish/Library/Caches/pypoetry/virtualenvs/freesound-crossmodal-search-rhICCOhS-py3.10/lib/python3.10/site-packages/sklearn/cluster/_kmeans.py:870: FutureWarning:\n",
      "\n",
      "The default value of `n_init` will change from 10 to 'auto' in 1.4. Set the value of `n_init` explicitly to suppress the warning\n",
      "\n"
     ]
    },
    {
     "data": {
      "text/plain": [
       "'plot.html'"
      ]
     },
     "execution_count": 13,
     "metadata": {},
     "output_type": "execute_result"
    }
   ],
   "source": [
    "import pandas as pd\n",
    "import nltk\n",
    "from nltk.corpus import stopwords\n",
    "from sklearn.feature_extraction.text import TfidfVectorizer\n",
    "from sklearn.cluster import KMeans\n",
    "from sklearn.decomposition import TruncatedSVD\n",
    "import plotly.express as px\n",
    "import plotly.offline as offline\n",
    "\n",
    "# read the csv file clotho_captions_evaluation.csv in data folder \n",
    "df = pd.read_csv('/Users/dilipharish/Master-Thesis/dh-freesound-crossmodal-search/data/clotho_captions_evaluation.csv')\n",
    "\n",
    "# print('df.head()', df.head())\n",
    "# # Read the CSV file\n",
    "# df = pd.read_csv('input.csv')\n",
    "\n",
    "# Preprocess the sentences\n",
    "nltk.download('stopwords')\n",
    "stop_words = set(stopwords.words('english'))\n",
    "\n",
    "def preprocess_text(text):\n",
    "    # Tokenize the text into sentences\n",
    "    sentences = nltk.sent_tokenize(text)\n",
    "    \n",
    "    # Preprocess each sentence\n",
    "    preprocessed_sentences = []\n",
    "    for sentence in sentences:\n",
    "        # Convert to lowercase\n",
    "        sentence = sentence.lower()\n",
    "        \n",
    "        # Remove stopwords\n",
    "        words = nltk.word_tokenize(sentence)\n",
    "        words = [word for word in words if word not in stop_words]\n",
    "        \n",
    "        # Join the words back into a sentence\n",
    "        preprocessed_sentence = ' '.join(words)\n",
    "        \n",
    "        preprocessed_sentences.append(preprocessed_sentence)\n",
    "    \n",
    "    return preprocessed_sentences\n",
    "\n",
    "# Apply preprocessing to the description columns\n",
    "text_columns = ['caption_1', 'caption_2', 'caption_3', 'caption_4', 'caption_5']\n",
    "preprocessed_sentences = []\n",
    "for column in text_columns:\n",
    "    df[column] = df[column].fillna('') # fillna is used to fill the missing values with a specified value\n",
    "\n",
    "    # applies the pre-process function to each of the text columns and then concatenates the results in a single list\n",
    "    preprocessed_sentences.extend(df[column].apply(preprocess_text).sum()) \n",
    "\n",
    "# Create vector representations of sentences using TF-IDF, convert text description in to a numerical vector\n",
    "vectorizer = TfidfVectorizer()\n",
    "sentence_vectors = vectorizer.fit_transform(preprocessed_sentences)\n",
    "\n",
    "# # Cluster the sentences using K-Means\n",
    "# num_clusters = 10  # Set the desired number of clusters\n",
    "# kmeans = KMeans(n_clusters=num_clusters, random_state=42)\n",
    "# kmeans.fit(sentence_vectors)\n",
    "\n",
    "# Reduce the dimensionality of the vectors for visualization\n",
    "svd = TruncatedSVD(n_components=2, random_state=42)\n",
    "X_2d = svd.fit_transform(sentence_vectors)\n",
    "\n",
    "# Perform clustering using K-Means\n",
    "kmeans = KMeans(n_clusters=10, random_state=42)\n",
    "labels = kmeans.fit_predict(sentence_vectors)\n",
    "\n",
    "unique_descriptions_df = pd.DataFrame({'Description': preprocessed_sentences, 'Cluster': labels})\n",
    "\n",
    "# Create a scatter plot with hover text\n",
    "fig = px.scatter(unique_descriptions_df, x=X_2d[:, 0], y=X_2d[:, 1], color='Cluster', hover_data=['Description'])\n",
    "fig.update_traces(textposition='top center')\n",
    "\n",
    "# Set plot title and axis labels\n",
    "fig.update_layout(title='Sentence Clustering', xaxis_title='Component 1', yaxis_title='Component 2')\n",
    "\n",
    "# Display the interactive plot\n",
    "offline.plot(fig, filename='plot.html')\n"
   ]
  },
  {
   "cell_type": "code",
   "execution_count": null,
   "metadata": {},
   "outputs": [],
   "source": []
  }
 ],
 "metadata": {
  "kernelspec": {
   "display_name": "freesound-crossmodal-search-rhICCOhS-py3.10",
   "language": "python",
   "name": "python3"
  },
  "language_info": {
   "codemirror_mode": {
    "name": "ipython",
    "version": 3
   },
   "file_extension": ".py",
   "mimetype": "text/x-python",
   "name": "python",
   "nbconvert_exporter": "python",
   "pygments_lexer": "ipython3",
   "version": "3.10.0"
  },
  "orig_nbformat": 4
 },
 "nbformat": 4,
 "nbformat_minor": 2
}
