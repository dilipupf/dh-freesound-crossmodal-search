{
 "cells": [
  {
   "cell_type": "code",
   "execution_count": 3,
   "metadata": {},
   "outputs": [],
   "source": [
    "import pandas as pd\n",
    "\n",
    "df = pd.read_csv('/Users/dilipharish/Master-Thesis/dh-freesound-crossmodal-search/generated_descriptions_func_call.csv')\n",
    "\n",
    "\n",
    "text_columns = ['caption_1', 'caption_2', 'caption_3', 'caption_4', 'caption_5']\n",
    "\n",
    "# read dataframe for the text_columns and append to a list\n",
    "\n",
    "captions = []\n",
    "for column in text_columns:\n",
    "    \n",
    "    #append column to list while removing empty strings\n",
    "    captions.append(df[column].dropna().tolist())\n",
    "\n",
    "# flatten the list and exclude blank captions\n",
    "captions = [item for sublist in captions for item in sublist if item != '']\n",
    "\n",
    "# save the list as a csv file\n",
    "df = pd.DataFrame(captions, columns=['captions'])\n",
    "df.to_csv('single_column_fgbg_captions.csv', index=False)"
   ]
  },
  {
   "cell_type": "code",
   "execution_count": null,
   "metadata": {},
   "outputs": [],
   "source": []
  }
 ],
 "metadata": {
  "kernelspec": {
   "display_name": "freesound-crossmodal-search-rhICCOhS-py3.10",
   "language": "python",
   "name": "python3"
  },
  "language_info": {
   "codemirror_mode": {
    "name": "ipython",
    "version": 3
   },
   "file_extension": ".py",
   "mimetype": "text/x-python",
   "name": "python",
   "nbconvert_exporter": "python",
   "pygments_lexer": "ipython3",
   "version": "3.10.0"
  },
  "orig_nbformat": 4
 },
 "nbformat": 4,
 "nbformat_minor": 2
}
