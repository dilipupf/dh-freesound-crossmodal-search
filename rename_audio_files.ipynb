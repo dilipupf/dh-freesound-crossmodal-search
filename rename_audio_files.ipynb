{
 "cells": [
  {
   "cell_type": "code",
   "execution_count": null,
   "metadata": {},
   "outputs": [],
   "source": [
    "import os\n",
    "import shutil\n",
    "\n",
    "def rename_and_move_wav_files(main_folder, new_folder):\n",
    "    # Create the new folder if it doesn't exist\n",
    "    os.makedirs(new_folder, exist_ok=True)\n",
    "\n",
    "    for root, dirs, files in os.walk(main_folder):\n",
    "        for dir in dirs:\n",
    "            sub_folder = os.path.join(root, dir)\n",
    "            folder_name = os.path.basename(sub_folder)\n",
    "            file_names = os.listdir(sub_folder)\n",
    "\n",
    "            for index, file_name in enumerate(file_names):\n",
    "                file_path = os.path.join(sub_folder, file_name)\n",
    "\n",
    "                if file_name.lower().endswith(\".wav\"):\n",
    "                    new_file_name = f\"{folder_name}_{index}.wav\"\n",
    "                    new_file_path = os.path.join(new_folder, new_file_name)\n",
    "                    shutil.copy2(file_path, new_file_path)\n",
    "                    print(f\"Copied: {file_name}\")\n",
    "\n",
    "# Provide the main folder path and the new folder path\n",
    "main_folder = \"/Users/dilipharish/Master-Thesis/dh-freesound-crossmodal-search/data/audio/new_scapes\"\n",
    "new_folder = \"/Users/dilipharish/Master-Thesis/dh-freesound-crossmodal-search/data/audio/dh-new_scapes\"\n",
    "\n",
    "# Call the rename_and_move_wav_files function\n",
    "rename_and_move_wav_files(main_folder, new_folder)\n"
   ]
  },
  {
   "cell_type": "code",
   "execution_count": 3,
   "metadata": {},
   "outputs": [],
   "source": [
    "import openai\n",
    "import os\n",
    "import csv\n",
    "from tqdm import tqdm\n",
    "import re\n",
    "from decouple import config"
   ]
  },
  {
   "cell_type": "code",
   "execution_count": 13,
   "metadata": {},
   "outputs": [],
   "source": [
    "# create a function that takes in a prompt and generates a soundscape description using open ai key and api\n",
    "def generate_soundscape_desc(prompt_text):\n",
    "\n",
    "        openai.api_key = config('OPENAI_API_KEY', default='')\n",
    "\n",
    "        # Prompt the user to enter a set of tags\n",
    "        # prompt = \"use this table below to create a text description of the sound descriptions the first two columns are start time and end time in seconds and third column is the label of the sound and fourth is whether the sound is in the background or foreground. The natural language description should exclude the time stamps and generate 5 similar sentences describing all it's sound events. Please consider the time stamps but donot include in the description to see if the sound events are overlapping and give the description accordingly. Exclude extensive use of the word foreground and background but give just the meaning of it\"\n",
    "        prompt = '''use this table below to create a text description of the sound descriptions the first two columns are start /\n",
    "        time and end time in seconds and third column is the label of the sound and fourth is whether the sound \n",
    "        is in the background or foreground. The natural language description should exclude the time stamps and\n",
    "        generate one sentence describing all it's sound events. Please consider the time stamps but donot \n",
    "        include in the description to see if the sound events are overlapping and give the description accordingly. \n",
    "        Exclude extensive use of the word foreground and background but give just the meaning of it'''\n",
    "       \n",
    "        prompt += prompt_text\n",
    "        # Set up the OpenAI API parameters\n",
    "\n",
    "        model = \"gpt-3.5-turbo\"\n",
    "        temperature = 0.1\n",
    "        max_tokens = 256\n",
    "\n",
    "        # Generate the text description using the OpenAI API\n",
    "        response = openai.Completion.create(\n",
    "            engine=model,\n",
    "            prompt=prompt,\n",
    "            temperature=temperature,\n",
    "            max_tokens=max_tokens,\n",
    "        )\n",
    "\n",
    "        # Print the text description\n",
    "        # print(response.choices[0].text.strip())\n",
    "\n",
    "        # return the text descriptions\n",
    "        return response.choices[0].text.strip()\n"
   ]
  },
  {
   "cell_type": "code",
   "execution_count": 5,
   "metadata": {},
   "outputs": [],
   "source": [
    "# read the folder and subfolders for .txt files and save the contents of the file in a variable and return it\n",
    "def read_txt_files(folder_path):\n",
    "    # read the folder and subfolders for .txt files and save the contents of the file in a variable and return it\n",
    "    # create a list of all the txt files\n",
    "    txt_files = []\n",
    "    for root, dirs, files in os.walk(folder_path):\n",
    "        for file in files:\n",
    "            if file.endswith(\".txt\"):\n",
    "                txt_files.append(os.path.join(root, file))\n",
    "    # print(txt_files)\n",
    "    # read the contents of the txt files\n",
    "    txt_files_contents = []\n",
    "    for txt_file in txt_files:\n",
    "        with open(txt_file, 'r') as f:\n",
    "            txt_files_contents.append(f.read())\n",
    "    # print(txt_files_contents)\n",
    "    return txt_files_contents\n"
   ]
  },
  {
   "cell_type": "code",
   "execution_count": null,
   "metadata": {},
   "outputs": [],
   "source": [
    "\n",
    "def read_txt_files(folder_path):\n",
    "    # read the folder and subfolders for .txt files and save the contents of the file in a variable and return it\n",
    "    # create a list of all the txt files\n",
    "    txt_files = []\n",
    "    audio_file_names = []\n",
    "    for root, dirs, files in os.walk(folder_path):\n",
    "        for file in files:\n",
    "            if file.endswith(\".txt\"):\n",
    "                txt_files.append(os.path.join(root, file))\n",
    "\n",
    "    # print(txt_files_contents)\n",
    "    # return txt_files_contents\n",
    "\n",
    "        for dir in dirs:\n",
    "            sub_folder = os.path.join(root, dir)\n",
    "            folder_name = os.path.basename(sub_folder)\n",
    "            file_names = os.listdir(sub_folder)\n",
    "\n",
    "            for index, file_name in enumerate(file_names):\n",
    "                # file_path = os.path.join(sub_folder, file_name)\n",
    "\n",
    "                if file_name.lower().endswith(\".wav\"):\n",
    "                    new_file_name = f\"{folder_name}_{index}.wav\"\n",
    "                    audio_file_names.append(new_file_name)\n",
    "                    # new_file_path = os.path.join(new_folder, new_file_name)\n",
    "                    # shutil.copy2(file_path, new_file_path)\n",
    "                    # print(f\"Copied: {file_name}\")\n",
    "        \n",
    "\n",
    "    txt_files_contents = []\n",
    "    for txt_file in txt_files:\n",
    "        with open(txt_file, 'r') as f:\n",
    "            txt_files_contents.append(f.read())\n",
    "    \n",
    "    return txt_files_contents, audio_file_names"
   ]
  },
  {
   "cell_type": "code",
   "execution_count": 40,
   "metadata": {},
   "outputs": [],
   "source": [
    "# read the folder and subfolders for .txt files and save the contents of the file in a variable and return it\n",
    "def read_txt_files_extract_audio_file_name(folder_path):\n",
    "    # read the folder and subfolders for .wav files and save the contents of the file in a variable and return it\n",
    "    # create a list of all the txt files\n",
    "    wav_files_names = []\n",
    "    for root, dirs, files in os.walk(folder_path):\n",
    "        # print('files', files)\n",
    "        for file in files:\n",
    "            if file.endswith(\".wav\"):\n",
    "                wav_files_names.append(os.path.join(root, file))\n",
    "    # print(txt_files)\n",
    "    # read the contents of the txt files\n",
    "    # print('wav_files_names', wav_files_names)\n",
    "    wav_filenames_af = []\n",
    "    for file_name in wav_files_names:\n",
    "        with open(file_name, 'r') as f:\n",
    "            wav_filenames_af.append(file_name.split('/')[-1])\n",
    "    # print(txt_files_contents)\n",
    "    return wav_filenames_af\n",
    "\n"
   ]
  },
  {
   "cell_type": "code",
   "execution_count": 42,
   "metadata": {},
   "outputs": [
    {
     "name": "stdout",
     "output_type": "stream",
     "text": [
      "450\n"
     ]
    }
   ],
   "source": [
    "wav_file_names = read_txt_files_extract_audio_file_name('/Users/dilipharish/Master-Thesis/dh-freesound-crossmodal-search/data/audio/dh-new_scapes')\n",
    "\n",
    "print(len(wav_file_names))"
   ]
  },
  {
   "cell_type": "code",
   "execution_count": 30,
   "metadata": {},
   "outputs": [
    {
     "name": "stdout",
     "output_type": "stream",
     "text": [
      "450\n"
     ]
    }
   ],
   "source": [
    "contents = read_txt_files('/Users/dilipharish/Master-Thesis/dh-freesound-crossmodal-search/data/audio/new_scapes')\n",
    "\n",
    "print(len(contents))"
   ]
  },
  {
   "cell_type": "code",
   "execution_count": 14,
   "metadata": {},
   "outputs": [
    {
     "name": "stderr",
     "output_type": "stream",
     "text": [
      "1it [00:04,  4.13s/it]"
     ]
    },
    {
     "name": "stdout",
     "output_type": "stream",
     "text": [
      "From \n",
      " to \n",
      " seconds a loud train whistle can be heard in the foreground followed by a background sound of chirping birds from \n",
      " to \n",
      " seconds\n",
      "\n"
     ]
    },
    {
     "name": "stderr",
     "output_type": "stream",
     "text": [
      "\n"
     ]
    }
   ],
   "source": [
    "\n",
    "\n",
    "# loop through each of the contents and generate a soundscape description including tqdm to show progress bar\n",
    "for index, content in tqdm(enumerate(contents[:1])):\n",
    "    # generated_descriptions = 'This soundscape consists of a car horn in the background, a gun shot in the foreground, as well as a drilling sound in the foreground. Additionally, these sounds overlap in certain areas. The car horn is heard before the other two sounds, and the gun shot and drilling sound follow suit. Both the gun shot and the drilling sound are heard in the foreground, while the car horn is heard in the background.'\n",
    "    generated_descriptions = generate_soundscape_desc(content)\n",
    "    \n",
    "    for sentence in generated_descriptions.split('.'):\n",
    "            #exclude the apostrophe and double quotes from the sentence\n",
    "            clean_text = re.sub('[^A-Za-z\\s]', '', sentence)\n",
    "            clean_text = re.sub('\\d+', '', clean_text)\n",
    "            # sentence = sentence.replace(\"'\", \"\")\n",
    "            # sentence = sentence.replace('\"', '')\n",
    "            # writer.writerow([clean_text])\n",
    "            print(clean_text)\n",
    "\n",
    "    # print('------------------------')\n",
    "    # print('Generating soundscape: {:d}/{:d}'.format(index+1, len(contents)))\n",
    "    \n",
    "    # #create a file name based on the index\n",
    "    # file_name = 'generated_descriptions_' + str(index) + '.csv'\n",
    "    # print(file_name)\n",
    "\n",
    "    # write the generated descriptions to a csv file and if row exists append to the csv file for each sentence in the description\n",
    "    # with open(file_name, 'w') as f:\n",
    "    #     writer = csv.writer(f)\n",
    "    #     writer.writerow(wav_file_names[index])\n",
    "        "
   ]
  },
  {
   "cell_type": "code",
   "execution_count": 15,
   "metadata": {},
   "outputs": [
    {
     "name": "stdout",
     "output_type": "stream",
     "text": [
      "generated_descriptions From 0.51 to 2.0 seconds a loud train whistle can be heard in the foreground, followed by a background sound of chirping birds from 2.0 to 4.0 seconds.\n"
     ]
    }
   ],
   "source": [
    "print('generated_descriptions', generated_descriptions)"
   ]
  },
  {
   "cell_type": "code",
   "execution_count": null,
   "metadata": {},
   "outputs": [],
   "source": []
  }
 ],
 "metadata": {
  "kernelspec": {
   "display_name": "freesound-crossmodal-search-rhICCOhS-py3.10",
   "language": "python",
   "name": "python3"
  },
  "language_info": {
   "codemirror_mode": {
    "name": "ipython",
    "version": 3
   },
   "file_extension": ".py",
   "mimetype": "text/x-python",
   "name": "python",
   "nbconvert_exporter": "python",
   "pygments_lexer": "ipython3",
   "version": "3.10.0"
  },
  "orig_nbformat": 4
 },
 "nbformat": 4,
 "nbformat_minor": 2
}
