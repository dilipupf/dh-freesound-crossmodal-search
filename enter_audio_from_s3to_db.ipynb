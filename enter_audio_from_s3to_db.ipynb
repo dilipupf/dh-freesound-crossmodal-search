{
 "cells": [
  {
   "cell_type": "code",
   "execution_count": 1,
   "metadata": {},
   "outputs": [
    {
     "ename": "UndefinedValueError",
     "evalue": "AWS_BUCKET_REGION not found. Declare it as envvar or define a default value.",
     "output_type": "error",
     "traceback": [
      "\u001b[0;31m---------------------------------------------------------------------------\u001b[0m",
      "\u001b[0;31mUndefinedValueError\u001b[0m                       Traceback (most recent call last)",
      "Cell \u001b[0;32mIn[1], line 10\u001b[0m\n\u001b[1;32m      8\u001b[0m aws_secret_access_key \u001b[39m=\u001b[39m config(\u001b[39m'\u001b[39m\u001b[39mAWS_SECRET_ACCESS_KEY\u001b[39m\u001b[39m'\u001b[39m)\n\u001b[1;32m      9\u001b[0m bucket_name \u001b[39m=\u001b[39m config(\u001b[39m'\u001b[39m\u001b[39mAWS_BUCKET_NAME\u001b[39m\u001b[39m'\u001b[39m)\n\u001b[0;32m---> 10\u001b[0m bucket_region \u001b[39m=\u001b[39m config(\u001b[39m'\u001b[39;49m\u001b[39mAWS_BUCKET_REGION\u001b[39;49m\u001b[39m'\u001b[39;49m)\n\u001b[1;32m     11\u001b[0m database_name \u001b[39m=\u001b[39m config(\u001b[39m'\u001b[39m\u001b[39mDATABASE_NAME\u001b[39m\u001b[39m'\u001b[39m)\n",
      "File \u001b[0;32m~/Library/Caches/pypoetry/virtualenvs/freesound-crossmodal-search-rhICCOhS-py3.10/lib/python3.10/site-packages/decouple.py:248\u001b[0m, in \u001b[0;36mAutoConfig.__call__\u001b[0;34m(self, *args, **kwargs)\u001b[0m\n\u001b[1;32m    245\u001b[0m \u001b[39mif\u001b[39;00m \u001b[39mnot\u001b[39;00m \u001b[39mself\u001b[39m\u001b[39m.\u001b[39mconfig:\n\u001b[1;32m    246\u001b[0m     \u001b[39mself\u001b[39m\u001b[39m.\u001b[39m_load(\u001b[39mself\u001b[39m\u001b[39m.\u001b[39msearch_path \u001b[39mor\u001b[39;00m \u001b[39mself\u001b[39m\u001b[39m.\u001b[39m_caller_path())\n\u001b[0;32m--> 248\u001b[0m \u001b[39mreturn\u001b[39;00m \u001b[39mself\u001b[39;49m\u001b[39m.\u001b[39;49mconfig(\u001b[39m*\u001b[39;49margs, \u001b[39m*\u001b[39;49m\u001b[39m*\u001b[39;49mkwargs)\n",
      "File \u001b[0;32m~/Library/Caches/pypoetry/virtualenvs/freesound-crossmodal-search-rhICCOhS-py3.10/lib/python3.10/site-packages/decouple.py:107\u001b[0m, in \u001b[0;36mConfig.__call__\u001b[0;34m(self, *args, **kwargs)\u001b[0m\n\u001b[1;32m    103\u001b[0m \u001b[39mdef\u001b[39;00m \u001b[39m__call__\u001b[39m(\u001b[39mself\u001b[39m, \u001b[39m*\u001b[39margs, \u001b[39m*\u001b[39m\u001b[39m*\u001b[39mkwargs):\n\u001b[1;32m    104\u001b[0m \u001b[39m    \u001b[39m\u001b[39m\"\"\"\u001b[39;00m\n\u001b[1;32m    105\u001b[0m \u001b[39m    Convenient shortcut to get.\u001b[39;00m\n\u001b[1;32m    106\u001b[0m \u001b[39m    \"\"\"\u001b[39;00m\n\u001b[0;32m--> 107\u001b[0m     \u001b[39mreturn\u001b[39;00m \u001b[39mself\u001b[39;49m\u001b[39m.\u001b[39;49mget(\u001b[39m*\u001b[39;49margs, \u001b[39m*\u001b[39;49m\u001b[39m*\u001b[39;49mkwargs)\n",
      "File \u001b[0;32m~/Library/Caches/pypoetry/virtualenvs/freesound-crossmodal-search-rhICCOhS-py3.10/lib/python3.10/site-packages/decouple.py:92\u001b[0m, in \u001b[0;36mConfig.get\u001b[0;34m(self, option, default, cast)\u001b[0m\n\u001b[1;32m     90\u001b[0m \u001b[39melse\u001b[39;00m:\n\u001b[1;32m     91\u001b[0m     \u001b[39mif\u001b[39;00m \u001b[39misinstance\u001b[39m(default, Undefined):\n\u001b[0;32m---> 92\u001b[0m         \u001b[39mraise\u001b[39;00m UndefinedValueError(\u001b[39m'\u001b[39m\u001b[39m{}\u001b[39;00m\u001b[39m not found. Declare it as envvar or define a default value.\u001b[39m\u001b[39m'\u001b[39m\u001b[39m.\u001b[39mformat(option))\n\u001b[1;32m     94\u001b[0m     value \u001b[39m=\u001b[39m default\n\u001b[1;32m     96\u001b[0m \u001b[39mif\u001b[39;00m \u001b[39misinstance\u001b[39m(cast, Undefined):\n",
      "\u001b[0;31mUndefinedValueError\u001b[0m: AWS_BUCKET_REGION not found. Declare it as envvar or define a default value."
     ]
    }
   ],
   "source": [
    "# main.py\n",
    "import boto3\n",
    "from decouple import config\n",
    "import sqlite3\n",
    "\n",
    "# Load S3-related configurations from the .env file\n",
    "aws_access_key_id = config('AWS_ACCESS_KEY_ID')\n",
    "aws_secret_access_key = config('AWS_SECRET_ACCESS_KEY')\n",
    "bucket_name = config('AWS_BUCKET_NAME')\n",
    "bucket_region = config('AWS_DEFAULT_REGION')\n",
    "database_name = config('DATABASE_NAME')"
   ]
  },
  {
   "cell_type": "code",
   "execution_count": null,
   "metadata": {},
   "outputs": [],
   "source": [
    "\n",
    "\n",
    "\n",
    "def main():\n",
    "\n",
    "\n",
    "    # Initialize the S3 client\n",
    "    s3 = boto3.client('s3',\n",
    "                      aws_access_key_id=aws_access_key_id,\n",
    "                      aws_secret_access_key=aws_secret_access_key,\n",
    "                      region_name=bucket_region)\n",
    "\n",
    "    # Connect to the SQLite database\n",
    "    conn = sqlite3.connect(database_name)\n",
    "    c = conn.cursor()\n",
    "\n",
    "    # List objects (files) in the specified S3 folder with the given pattern\n",
    "    objects = s3.list_objects_v2(Bucket=bucket_name, Prefix='data/audio/dh-new_scapes')\n",
    "\n",
    "    if 'Contents' in objects:\n",
    "        for obj in objects['Contents']:\n",
    "            key = obj['Key']\n",
    "            if key.endswith(\".wav\"):\n",
    "                print(f\"Reading file: {key}\")\n",
    "\n",
    "                # Read the audio file content directly from S3 using smart_open\n",
    "                with open(f's3://{bucket_name}/{key}', 'rb') as file:\n",
    "            \n",
    "                    # Now you can insert the S3 link and other relevant data into your SQLite database\n",
    "                    # For example, insert it into a table named 'audio_files'\n",
    "                    c.execute(\"INSERT INTO audio_files (s3_link, file_name) VALUES (?, ?)\", (f's3://{bucket_name}/{key}', key))\n",
    "\n",
    "    # Commit the changes and close the database connection\n",
    "    conn.commit()\n",
    "    conn.close()\n",
    "\n",
    "\n"
   ]
  },
  {
   "cell_type": "code",
   "execution_count": 5,
   "metadata": {},
   "outputs": [
    {
     "ename": "UndefinedValueError",
     "evalue": "AWS_ACCESS_KEY_ID not found. Declare it as envvar or define a default value.",
     "output_type": "error",
     "traceback": [
      "\u001b[0;31m---------------------------------------------------------------------------\u001b[0m",
      "\u001b[0;31mUndefinedValueError\u001b[0m                       Traceback (most recent call last)",
      "Cell \u001b[0;32mIn[5], line 2\u001b[0m\n\u001b[1;32m      1\u001b[0m \u001b[39mif\u001b[39;00m \u001b[39m__name__\u001b[39m \u001b[39m==\u001b[39m \u001b[39m\"\u001b[39m\u001b[39m__main__\u001b[39m\u001b[39m\"\u001b[39m:\n\u001b[0;32m----> 2\u001b[0m     main()\n",
      "Cell \u001b[0;32mIn[4], line 10\u001b[0m, in \u001b[0;36mmain\u001b[0;34m()\u001b[0m\n\u001b[1;32m      8\u001b[0m \u001b[39mdef\u001b[39;00m \u001b[39mmain\u001b[39m():\n\u001b[1;32m      9\u001b[0m     \u001b[39m# Load S3-related configurations from the .env file\u001b[39;00m\n\u001b[0;32m---> 10\u001b[0m     aws_access_key_id \u001b[39m=\u001b[39m config(\u001b[39m'\u001b[39;49m\u001b[39mAWS_ACCESS_KEY_ID\u001b[39;49m\u001b[39m'\u001b[39;49m)\n\u001b[1;32m     11\u001b[0m     aws_secret_access_key \u001b[39m=\u001b[39m config(\u001b[39m'\u001b[39m\u001b[39mAWS_SECRET_ACCESS_KEY\u001b[39m\u001b[39m'\u001b[39m)\n\u001b[1;32m     12\u001b[0m     bucket_name \u001b[39m=\u001b[39m config(\u001b[39m'\u001b[39m\u001b[39mAWS_BUCKET_NAME\u001b[39m\u001b[39m'\u001b[39m)\n",
      "File \u001b[0;32m~/Library/Caches/pypoetry/virtualenvs/freesound-crossmodal-search-rhICCOhS-py3.10/lib/python3.10/site-packages/decouple.py:248\u001b[0m, in \u001b[0;36mAutoConfig.__call__\u001b[0;34m(self, *args, **kwargs)\u001b[0m\n\u001b[1;32m    245\u001b[0m \u001b[39mif\u001b[39;00m \u001b[39mnot\u001b[39;00m \u001b[39mself\u001b[39m\u001b[39m.\u001b[39mconfig:\n\u001b[1;32m    246\u001b[0m     \u001b[39mself\u001b[39m\u001b[39m.\u001b[39m_load(\u001b[39mself\u001b[39m\u001b[39m.\u001b[39msearch_path \u001b[39mor\u001b[39;00m \u001b[39mself\u001b[39m\u001b[39m.\u001b[39m_caller_path())\n\u001b[0;32m--> 248\u001b[0m \u001b[39mreturn\u001b[39;00m \u001b[39mself\u001b[39;49m\u001b[39m.\u001b[39;49mconfig(\u001b[39m*\u001b[39;49margs, \u001b[39m*\u001b[39;49m\u001b[39m*\u001b[39;49mkwargs)\n",
      "File \u001b[0;32m~/Library/Caches/pypoetry/virtualenvs/freesound-crossmodal-search-rhICCOhS-py3.10/lib/python3.10/site-packages/decouple.py:107\u001b[0m, in \u001b[0;36mConfig.__call__\u001b[0;34m(self, *args, **kwargs)\u001b[0m\n\u001b[1;32m    103\u001b[0m \u001b[39mdef\u001b[39;00m \u001b[39m__call__\u001b[39m(\u001b[39mself\u001b[39m, \u001b[39m*\u001b[39margs, \u001b[39m*\u001b[39m\u001b[39m*\u001b[39mkwargs):\n\u001b[1;32m    104\u001b[0m \u001b[39m    \u001b[39m\u001b[39m\"\"\"\u001b[39;00m\n\u001b[1;32m    105\u001b[0m \u001b[39m    Convenient shortcut to get.\u001b[39;00m\n\u001b[1;32m    106\u001b[0m \u001b[39m    \"\"\"\u001b[39;00m\n\u001b[0;32m--> 107\u001b[0m     \u001b[39mreturn\u001b[39;00m \u001b[39mself\u001b[39;49m\u001b[39m.\u001b[39;49mget(\u001b[39m*\u001b[39;49margs, \u001b[39m*\u001b[39;49m\u001b[39m*\u001b[39;49mkwargs)\n",
      "File \u001b[0;32m~/Library/Caches/pypoetry/virtualenvs/freesound-crossmodal-search-rhICCOhS-py3.10/lib/python3.10/site-packages/decouple.py:92\u001b[0m, in \u001b[0;36mConfig.get\u001b[0;34m(self, option, default, cast)\u001b[0m\n\u001b[1;32m     90\u001b[0m \u001b[39melse\u001b[39;00m:\n\u001b[1;32m     91\u001b[0m     \u001b[39mif\u001b[39;00m \u001b[39misinstance\u001b[39m(default, Undefined):\n\u001b[0;32m---> 92\u001b[0m         \u001b[39mraise\u001b[39;00m UndefinedValueError(\u001b[39m'\u001b[39m\u001b[39m{}\u001b[39;00m\u001b[39m not found. Declare it as envvar or define a default value.\u001b[39m\u001b[39m'\u001b[39m\u001b[39m.\u001b[39mformat(option))\n\u001b[1;32m     94\u001b[0m     value \u001b[39m=\u001b[39m default\n\u001b[1;32m     96\u001b[0m \u001b[39mif\u001b[39;00m \u001b[39misinstance\u001b[39m(cast, Undefined):\n",
      "\u001b[0;31mUndefinedValueError\u001b[0m: AWS_ACCESS_KEY_ID not found. Declare it as envvar or define a default value."
     ]
    }
   ],
   "source": [
    "if __name__ == \"__main__\":\n",
    "    main()"
   ]
  },
  {
   "cell_type": "code",
   "execution_count": null,
   "metadata": {},
   "outputs": [],
   "source": []
  }
 ],
 "metadata": {
  "kernelspec": {
   "display_name": "freesound-crossmodal-search-rhICCOhS-py3.10",
   "language": "python",
   "name": "python3"
  },
  "language_info": {
   "codemirror_mode": {
    "name": "ipython",
    "version": 3
   },
   "file_extension": ".py",
   "mimetype": "text/x-python",
   "name": "python",
   "nbconvert_exporter": "python",
   "pygments_lexer": "ipython3",
   "version": "3.10.0"
  },
  "orig_nbformat": 4
 },
 "nbformat": 4,
 "nbformat_minor": 2
}
