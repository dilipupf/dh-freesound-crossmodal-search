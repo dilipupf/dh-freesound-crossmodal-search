{
 "cells": [
  {
   "cell_type": "code",
   "execution_count": null,
   "metadata": {},
   "outputs": [],
   "source": [
    "import streamlit as st\n",
    "from google.oauth2 import service_account\n",
    "from gsheetsdb import connect\n",
    "import pandas as pd\n",
    "results = [\n",
    "    [\"thunderstorm occuring while its raining outside\", 1764, 479, \"/Users/dilipharish/Master-Thesis/dh-freesound-crossmodal-search/data/audio/evaluation/Wind moaning through gap in door.wav\", 0.5122, 1]\n",
    "]\n",
    "# Create a connection object.\n",
    "credentials = service_account.Credentials.from_service_account_info(\n",
    "    st.secrets[\"gcp_service_account\"],\n",
    "    scopes=[\n",
    "        \"https://www.googleapis.com/auth/spreadsheets\",\n",
    "    ],\n",
    ")\n",
    "conn = connect(credentials=credentials)\n",
    "\n",
    "# Define your DataFrame with the data you want to insert\n",
    "df = pd.DataFrame(results, columns=['query', 'batch_index', 'index_of_audio_output_tensor', 'audio_file_name', 'similarity_score_by_model', 'user_relevance_score'])\n",
    "\n",
    "sheet_url = st.secrets[\"private_gsheets_url\"]\n",
    "# Insert data into the Google Sheet.\n",
    "conn.insert(df, sheet_url)  # Assuming `sheet_url` is the destination sheet URL\n",
    "\n",
    "print('df', df)\n",
    "\n",
    "# # Print a success message\n",
    "# st.write(\"Data inserted into Google Sheet!\")\n",
    "\n",
    "# # You can also display the inserted data in the Streamlit app if needed\n",
    "# st.write(df)\n"
   ]
  },
  {
   "cell_type": "code",
   "execution_count": 2,
   "metadata": {},
   "outputs": [],
   "source": [
    "import streamlit as st\n",
    "from google.oauth2 import service_account\n",
    "import gspread\n",
    "import pandas as pd\n",
    "\n",
    "results = [\n",
    "    [\"thunderstorm occuring while its raining outside\", 1765, 479, \"/Users/dilipharish/Master-Thesis/dh-freesound-crossmodal-search/data/audio/evaluation/Wind moaning through gap in door.wav\", 0.5122, 1]\n",
    "]\n",
    "\n",
    "# Create a connection object.\n",
    "credentials = service_account.Credentials.from_service_account_info(\n",
    "    st.secrets[\"gcp_service_account\"],\n",
    "    scopes=[\n",
    "        \"https://www.googleapis.com/auth/spreadsheets\",\n",
    "    ],\n",
    ")\n",
    "gc = gspread.authorize(credentials)\n",
    "\n",
    "# Get the Google Sheet by URL.\n",
    "sheet_url = st.secrets[\"private_gsheets_url\"]\n",
    "sheet = gc.open_by_url(sheet_url)\n",
    "\n",
    "# Function to insert data into the Google Sheet.\n",
    "def insert_data_into_sheet(dataframe):\n",
    "    worksheet = sheet.get_worksheet(0)  # Replace 0 with the index of your desired worksheet\n",
    "    values = dataframe.values.tolist()\n",
    "\n",
    "    # Insert the data into the Google Sheet\n",
    "    worksheet.insert_rows(values, 2)  # Change the row index as needed\n",
    "\n",
    "# Your DataFrame with data to be inserted\n",
    "df = pd.DataFrame(results, columns=['query', 'batch_index', 'index_of_audio_output_tensor', 'audio_file_name', 'similarity_score_by_model', 'user_relevance_score'])\n",
    "\n",
    "# Call the function to insert data into the Google Sheet\n",
    "insert_data_into_sheet(df)\n"
   ]
  },
  {
   "cell_type": "code",
   "execution_count": null,
   "metadata": {},
   "outputs": [],
   "source": []
  }
 ],
 "metadata": {
  "kernelspec": {
   "display_name": "freesound-crossmodal-search-rhICCOhS-py3.10",
   "language": "python",
   "name": "python3"
  },
  "language_info": {
   "codemirror_mode": {
    "name": "ipython",
    "version": 3
   },
   "file_extension": ".py",
   "mimetype": "text/x-python",
   "name": "python",
   "nbconvert_exporter": "python",
   "pygments_lexer": "ipython3",
   "version": "3.10.0"
  },
  "orig_nbformat": 4
 },
 "nbformat": 4,
 "nbformat_minor": 2
}
